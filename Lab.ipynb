{
 "cells": [
  {
   "cell_type": "markdown",
   "id": "c6461ce9",
   "metadata": {},
   "source": [
    "# Laboratorio 3 Control\n",
    "- Miguel Angel Alvarez Guzman\n",
    "- C.C 1000871173"
   ]
  },
  {
   "cell_type": "markdown",
   "id": "6e1b3d8f",
   "metadata": {},
   "source": [
    "# Previos \n",
    "### Descripcion comandos\n",
    "- lsim: Simula la respuesta temporal de un sistema lineal (transferencia, espacio de estados) ante una entrada arbitraria.\n",
    "Uso en MATLAB:\n",
    "    lsim(sys, u, t)\n",
    "- sim: Ejecuta una simulación de un modelo de Simulink desde MATLAB.\n",
    "Uso en MATLAB:\n",
    "    sim('nombre_modelo')\n",
    "- linmod: Linealiza un modelo de Simulink alrededor de un punto de operación.\n",
    "Uso en MATLAB:\n",
    "    [A,B,C,D] = linmod('modelo')\n",
    "- trim: Calcula un punto de equilibrio para un sistema de Simulink.\n",
    "Uso en MATLAB:\n",
    "    [x,u,y,dx] = trim('modelo',x0,u0,y0,ix,iu,iy)\n",
    "- simset: Crea o configura opciones para la simulación.\n",
    "Uso en MATLAB:\n",
    "    options = simset('Solver','ode45','SrcWorkspace','current');\n",
    "    sim('modelo', [], options)\n",
    "- simget: Obtiene valores actuales de configuración de simulación.\n",
    "Uso en MATLAB:\n",
    "    solver = simget(options, 'Solver')\n",
    "- sign: Devuelve el signo de un número o matriz:\n",
    "    - 1 si positivo\n",
    "    - -1 si negativo\n",
    "    - 0 si cero\n",
    "Uso en MATLAB:\n",
    "    sign([-3 0 5])  % Resultado: [-1 0 1]\n",
    "- in: En Simulink/MATLAB, 'in' se usa como objeto Simulink.SimulationInput:\n",
    "    in = Simulink.SimulationInput('modelo');\n",
    "    in = setVariable(in,'a',5);\n",
    "    out = sim(in);\n",
    "- out: En Simulink/MATLAB, 'out' es el objeto que almacena los resultados de una simulación:\n",
    "    out = sim('modelo');\n",
    "    plot(out.yout)\n",
    "- to workspace: Bloque que guarda una señal de Simulink en el espacio de trabajo de MATLAB para posterior análisis o graficación.\n",
    "Se puede guardar como estructura, vector o matriz.\n",
    "- transfer fcn: Bloque que representa una función de transferencia:\n",
    "    H(s) = (b0*s^n + ... + bn)/(a0*s^m + ... + am)\n",
    "Permite modelar filtros, sistemas de control, etc., en Simulink."
   ]
  }
 ],
 "metadata": {
  "language_info": {
   "name": "python"
  }
 },
 "nbformat": 4,
 "nbformat_minor": 5
}
