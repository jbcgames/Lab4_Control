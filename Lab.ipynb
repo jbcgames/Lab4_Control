{
 "cells": [
  {
   "cell_type": "markdown",
   "id": "c6461ce9",
   "metadata": {},
   "source": [
    "# Laboratorio 3 Control\n",
    "- Miguel Angel Alvarez Guzman\n",
    "- C.C 1000871173"
   ]
  },
  {
   "cell_type": "markdown",
   "id": "6e1b3d8f",
   "metadata": {},
   "source": [
    "# Previos \n",
    "### Descripcion comandos\n",
    "- lsim: Simula la respuesta temporal de un sistema lineal (transferencia, espacio de estados) ante una entrada arbitraria.\n",
    "Uso en MATLAB:\n",
    "    lsim(sys, u, t)\n",
    "- sim: Ejecuta una simulación de un modelo de Simulink desde MATLAB.\n",
    "Uso en MATLAB:\n",
    "    sim('nombre_modelo')\n",
    "- linmod: Linealiza un modelo de Simulink alrededor de un punto de operación.\n",
    "Uso en MATLAB:\n",
    "    [A,B,C,D] = linmod('modelo')\n",
    "- trim: Calcula un punto de equilibrio para un sistema de Simulink.\n",
    "Uso en MATLAB:\n",
    "    [x,u,y,dx] = trim('modelo',x0,u0,y0,ix,iu,iy)\n",
    "- simset: Crea o configura opciones para la simulación.\n",
    "Uso en MATLAB:\n",
    "    options = simset('Solver','ode45','SrcWorkspace','current');\n",
    "    sim('modelo', [], options)\n",
    "- simget: Obtiene valores actuales de configuración de simulación.\n",
    "Uso en MATLAB:\n",
    "    solver = simget(options, 'Solver')\n",
    "- sign: Devuelve el signo de un número o matriz:\n",
    "    - 1 si positivo\n",
    "    - -1 si negativo\n",
    "    - 0 si cero\n",
    "Uso en MATLAB:\n",
    "    sign([-3 0 5])  % Resultado: [-1 0 1]\n",
    "- in: En Simulink/MATLAB, 'in' se usa como objeto Simulink.SimulationInput:\n",
    "    in = Simulink.SimulationInput('modelo');\n",
    "    in = setVariable(in,'a',5);\n",
    "    out = sim(in);\n",
    "- out: En Simulink/MATLAB, 'out' es el objeto que almacena los resultados de una simulación:\n",
    "    out = sim('modelo');\n",
    "    plot(out.yout)\n",
    "- to workspace: Bloque que guarda una señal de Simulink en el espacio de trabajo de MATLAB para posterior análisis o graficación.\n",
    "Se puede guardar como estructura, vector o matriz.\n",
    "- transfer fcn: Bloque que representa una función de transferencia:\n",
    "    H(s) = (b0*s^n + ... + bn)/(a0*s^m + ... + am)\n",
    "Permite modelar filtros, sistemas de control, etc., en Simulink."
   ]
  },
  {
   "cell_type": "markdown",
   "id": "fef070f5",
   "metadata": {},
   "source": [
    "# Punto 4.1\n",
    "¿Cuáles sublibrerías poseen las librerías Simulink, Control Systems y Simulink Extras?\n",
    "\n",
    "- Simulink\n",
    "\n",
    "![image.png](4.1.1.png)\n",
    "\n",
    "- Control Systems\n",
    "\n",
    "![image.png](4.1.2.png)\n",
    "\n",
    "- Simulink Extras\n",
    "\n",
    "![image.png](4.1.3.png)\n",
    "\n",
    "# Punto 4.2\n",
    "monte el programa de la figura 1, Llame y guarde el proyecto como “ejemplo1”\n",
    "\n",
    "![image.png](4.2.png)\n",
    "\n",
    "# Punto 4.3\n",
    "Por ahora seleccione que el scope sea no flotante y agregue al programa de la figura 1 un bloque mux, cuya salida se conecta a la entrada del scope no flotante y cuyas entradas se conectan con las señales de entrada, salida y de acción de control.\n",
    "\n",
    "![image.png](4.3.png)\n",
    "\n",
    "# Punto 4.4\n",
    "¿Qué diferencia de funcionalidad existe entre Out y to Workspace?  \n",
    "\n",
    "El bloque Outport saca señales hacia otros bloques o niveles del modelo, mientras que To Workspace guarda los datos de la simulación en MATLAB para analizarlos después.\n",
    "\n",
    "Observe que en el programa SL se tienen varias maneras de enviar información de la simulación al ETML.  \n",
    "\n",
    "Simulink permite enviar datos al espacio de trabajo de MATLAB usando bloques como To Workspace, Scope (con opción de guardar), o mediante registro de señales (Signal Logging). También puedes capturar salidas desde scripts usando sim() y exportar resultados automáticamente."
   ]
  }
 ],
 "metadata": {
  "language_info": {
   "name": "python"
  }
 },
 "nbformat": 4,
 "nbformat_minor": 5
}
